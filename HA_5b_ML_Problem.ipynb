{
 "cells": [
  {
   "metadata": {},
   "cell_type": "markdown",
   "source": [
    "# MBA Admission\n",
    "\n",
    "## About Dataset\n",
    "\n",
    "## 1. Data Source\n",
    "- Synthetic data generated from the Wharton Class of 2025's statistics.\n",
    "\n",
    "## 2. Meta Data\n",
    "\n",
    "- **application_id**: Unique identifier for each application.\n",
    "- **gender**: Applicant's gender (`Male`, `Female`).\n",
    "- **international**: International student status (`TRUE`/`FALSE`).\n",
    "- **gpa**: Grade Point Average of the applicant (on a 4.0 scale).\n",
    "- **major**: Undergraduate major (`Business`, `STEM`, `Humanities`).\n",
    "- **race**: Racial background of the applicant (e.g., `White`, `Black`, `Asian`, `Hispanic`, `Other` / `null`: international student).\n",
    "- **gmat**: GMAT score of the applicant (maximum of 800 points).\n",
    "- **work_exp**: Number of years of work experience (in years).\n",
    "- **work_industry**: Industry of the applicant's previous work experience (e.g., `Consulting`, `Finance`, `Technology`, etc.).\n",
    "- **admission**: Admission status (`Admit`, `Waitlist`, `Null`: Deny).\n",
    "\n",
    "## 3. Usage\n",
    "\n",
    "- **Classification**: Predict the admission status based on other features.\n"
   ],
   "id": "c853dcdc6df852a0"
  },
  {
   "metadata": {
    "ExecuteTime": {
     "end_time": "2024-11-07T14:22:22.195991Z",
     "start_time": "2024-11-07T14:22:22.191665Z"
    }
   },
   "cell_type": "code",
   "source": [
    "# Importing important Python Libraries\n",
    "import pandas as pd\n",
    "import numpy as np\n",
    "import matplotlib.pyplot as plt\n",
    "import seaborn as sns\n",
    "\n",
    "# for preprocessing\n",
    "from sklearn.preprocessing import OneHotEncoder, StandardScaler, OrdinalEncoder,LabelEncoder\n",
    "from sklearn.compose import ColumnTransformer\n",
    "from sklearn.model_selection import train_test_split\n",
    "\n",
    "#  for evaluation\n",
    "from sklearn.metrics import accuracy_score, precision_score, recall_score, f1_score, confusion_matrix, classification_report\n",
    "\n",
    "# model\n",
    "from sklearn.tree import DecisionTreeClassifier"
   ],
   "id": "f6381f876c58eb8c",
   "outputs": [],
   "execution_count": 31
  },
  {
   "metadata": {},
   "cell_type": "markdown",
   "source": "# Loading & Reading Data",
   "id": "d9e73003e5ae31b3"
  },
  {
   "metadata": {
    "ExecuteTime": {
     "end_time": "2024-11-07T14:22:23.114174Z",
     "start_time": "2024-11-07T14:22:23.082544Z"
    }
   },
   "cell_type": "code",
   "source": [
    "df = pd.read_csv('MBA.csv')\n",
    "df.head(20)"
   ],
   "id": "a8d2cc590fe8b4e8",
   "outputs": [
    {
     "data": {
      "text/plain": [
       "    application_id  gender  international   gpa       major      race   gmat  \\\n",
       "0                1  Female          False  3.30    Business     Asian  620.0   \n",
       "1                2    Male          False  3.28  Humanities     Black  680.0   \n",
       "2                3  Female           True  3.30    Business       NaN  710.0   \n",
       "3                4    Male          False  3.47        STEM     Black  690.0   \n",
       "4                5    Male          False  3.35        STEM  Hispanic  590.0   \n",
       "5                6    Male          False  3.18    Business     White  610.0   \n",
       "6                7  Female          False  2.93        STEM     Other  590.0   \n",
       "7                8    Male           True  3.02    Business       NaN  630.0   \n",
       "8                9    Male          False  3.24    Business     White  590.0   \n",
       "9               10    Male          False  3.27  Humanities     Asian  690.0   \n",
       "10              11    Male          False  3.05  Humanities     White  580.0   \n",
       "11              12    Male           True  2.85  Humanities       NaN  580.0   \n",
       "12              13  Female          False  3.24  Humanities  Hispanic  640.0   \n",
       "13              14  Female          False  3.39    Business     Black  690.0   \n",
       "14              15  Female          False  3.03        STEM     White  600.0   \n",
       "15              16  Female           True  3.05  Humanities       NaN  710.0   \n",
       "16              17  Female          False  3.32    Business     Asian  710.0   \n",
       "17              18    Male          False  3.23  Humanities     Black  700.0   \n",
       "18              19    Male          False  3.13  Humanities     White  630.0   \n",
       "19              20    Male           True  3.09    Business       NaN  670.0   \n",
       "\n",
       "    work_exp          work_industry admission  \n",
       "0        3.0     Financial Services     Admit  \n",
       "1        5.0  Investment Management       NaN  \n",
       "2        5.0             Technology     Admit  \n",
       "3        6.0             Technology       NaN  \n",
       "4        5.0             Consulting       NaN  \n",
       "5        6.0             Consulting       NaN  \n",
       "6        3.0             Technology     Admit  \n",
       "7        6.0     Financial Services       NaN  \n",
       "8        2.0          Nonprofit/Gov       NaN  \n",
       "9        3.0             Consulting       NaN  \n",
       "10       5.0             Technology       NaN  \n",
       "11       4.0                  PE/VC       NaN  \n",
       "12       6.0                  PE/VC  Waitlist  \n",
       "13       4.0          Nonprofit/Gov       NaN  \n",
       "14       5.0             Technology     Admit  \n",
       "15       4.0             Consulting     Admit  \n",
       "16       5.0                  PE/VC     Admit  \n",
       "17       4.0            Health Care       NaN  \n",
       "18       6.0     Financial Services       NaN  \n",
       "19       8.0             Consulting       NaN  "
      ],
      "text/html": [
       "<div>\n",
       "<style scoped>\n",
       "    .dataframe tbody tr th:only-of-type {\n",
       "        vertical-align: middle;\n",
       "    }\n",
       "\n",
       "    .dataframe tbody tr th {\n",
       "        vertical-align: top;\n",
       "    }\n",
       "\n",
       "    .dataframe thead th {\n",
       "        text-align: right;\n",
       "    }\n",
       "</style>\n",
       "<table border=\"1\" class=\"dataframe\">\n",
       "  <thead>\n",
       "    <tr style=\"text-align: right;\">\n",
       "      <th></th>\n",
       "      <th>application_id</th>\n",
       "      <th>gender</th>\n",
       "      <th>international</th>\n",
       "      <th>gpa</th>\n",
       "      <th>major</th>\n",
       "      <th>race</th>\n",
       "      <th>gmat</th>\n",
       "      <th>work_exp</th>\n",
       "      <th>work_industry</th>\n",
       "      <th>admission</th>\n",
       "    </tr>\n",
       "  </thead>\n",
       "  <tbody>\n",
       "    <tr>\n",
       "      <th>0</th>\n",
       "      <td>1</td>\n",
       "      <td>Female</td>\n",
       "      <td>False</td>\n",
       "      <td>3.30</td>\n",
       "      <td>Business</td>\n",
       "      <td>Asian</td>\n",
       "      <td>620.0</td>\n",
       "      <td>3.0</td>\n",
       "      <td>Financial Services</td>\n",
       "      <td>Admit</td>\n",
       "    </tr>\n",
       "    <tr>\n",
       "      <th>1</th>\n",
       "      <td>2</td>\n",
       "      <td>Male</td>\n",
       "      <td>False</td>\n",
       "      <td>3.28</td>\n",
       "      <td>Humanities</td>\n",
       "      <td>Black</td>\n",
       "      <td>680.0</td>\n",
       "      <td>5.0</td>\n",
       "      <td>Investment Management</td>\n",
       "      <td>NaN</td>\n",
       "    </tr>\n",
       "    <tr>\n",
       "      <th>2</th>\n",
       "      <td>3</td>\n",
       "      <td>Female</td>\n",
       "      <td>True</td>\n",
       "      <td>3.30</td>\n",
       "      <td>Business</td>\n",
       "      <td>NaN</td>\n",
       "      <td>710.0</td>\n",
       "      <td>5.0</td>\n",
       "      <td>Technology</td>\n",
       "      <td>Admit</td>\n",
       "    </tr>\n",
       "    <tr>\n",
       "      <th>3</th>\n",
       "      <td>4</td>\n",
       "      <td>Male</td>\n",
       "      <td>False</td>\n",
       "      <td>3.47</td>\n",
       "      <td>STEM</td>\n",
       "      <td>Black</td>\n",
       "      <td>690.0</td>\n",
       "      <td>6.0</td>\n",
       "      <td>Technology</td>\n",
       "      <td>NaN</td>\n",
       "    </tr>\n",
       "    <tr>\n",
       "      <th>4</th>\n",
       "      <td>5</td>\n",
       "      <td>Male</td>\n",
       "      <td>False</td>\n",
       "      <td>3.35</td>\n",
       "      <td>STEM</td>\n",
       "      <td>Hispanic</td>\n",
       "      <td>590.0</td>\n",
       "      <td>5.0</td>\n",
       "      <td>Consulting</td>\n",
       "      <td>NaN</td>\n",
       "    </tr>\n",
       "    <tr>\n",
       "      <th>5</th>\n",
       "      <td>6</td>\n",
       "      <td>Male</td>\n",
       "      <td>False</td>\n",
       "      <td>3.18</td>\n",
       "      <td>Business</td>\n",
       "      <td>White</td>\n",
       "      <td>610.0</td>\n",
       "      <td>6.0</td>\n",
       "      <td>Consulting</td>\n",
       "      <td>NaN</td>\n",
       "    </tr>\n",
       "    <tr>\n",
       "      <th>6</th>\n",
       "      <td>7</td>\n",
       "      <td>Female</td>\n",
       "      <td>False</td>\n",
       "      <td>2.93</td>\n",
       "      <td>STEM</td>\n",
       "      <td>Other</td>\n",
       "      <td>590.0</td>\n",
       "      <td>3.0</td>\n",
       "      <td>Technology</td>\n",
       "      <td>Admit</td>\n",
       "    </tr>\n",
       "    <tr>\n",
       "      <th>7</th>\n",
       "      <td>8</td>\n",
       "      <td>Male</td>\n",
       "      <td>True</td>\n",
       "      <td>3.02</td>\n",
       "      <td>Business</td>\n",
       "      <td>NaN</td>\n",
       "      <td>630.0</td>\n",
       "      <td>6.0</td>\n",
       "      <td>Financial Services</td>\n",
       "      <td>NaN</td>\n",
       "    </tr>\n",
       "    <tr>\n",
       "      <th>8</th>\n",
       "      <td>9</td>\n",
       "      <td>Male</td>\n",
       "      <td>False</td>\n",
       "      <td>3.24</td>\n",
       "      <td>Business</td>\n",
       "      <td>White</td>\n",
       "      <td>590.0</td>\n",
       "      <td>2.0</td>\n",
       "      <td>Nonprofit/Gov</td>\n",
       "      <td>NaN</td>\n",
       "    </tr>\n",
       "    <tr>\n",
       "      <th>9</th>\n",
       "      <td>10</td>\n",
       "      <td>Male</td>\n",
       "      <td>False</td>\n",
       "      <td>3.27</td>\n",
       "      <td>Humanities</td>\n",
       "      <td>Asian</td>\n",
       "      <td>690.0</td>\n",
       "      <td>3.0</td>\n",
       "      <td>Consulting</td>\n",
       "      <td>NaN</td>\n",
       "    </tr>\n",
       "    <tr>\n",
       "      <th>10</th>\n",
       "      <td>11</td>\n",
       "      <td>Male</td>\n",
       "      <td>False</td>\n",
       "      <td>3.05</td>\n",
       "      <td>Humanities</td>\n",
       "      <td>White</td>\n",
       "      <td>580.0</td>\n",
       "      <td>5.0</td>\n",
       "      <td>Technology</td>\n",
       "      <td>NaN</td>\n",
       "    </tr>\n",
       "    <tr>\n",
       "      <th>11</th>\n",
       "      <td>12</td>\n",
       "      <td>Male</td>\n",
       "      <td>True</td>\n",
       "      <td>2.85</td>\n",
       "      <td>Humanities</td>\n",
       "      <td>NaN</td>\n",
       "      <td>580.0</td>\n",
       "      <td>4.0</td>\n",
       "      <td>PE/VC</td>\n",
       "      <td>NaN</td>\n",
       "    </tr>\n",
       "    <tr>\n",
       "      <th>12</th>\n",
       "      <td>13</td>\n",
       "      <td>Female</td>\n",
       "      <td>False</td>\n",
       "      <td>3.24</td>\n",
       "      <td>Humanities</td>\n",
       "      <td>Hispanic</td>\n",
       "      <td>640.0</td>\n",
       "      <td>6.0</td>\n",
       "      <td>PE/VC</td>\n",
       "      <td>Waitlist</td>\n",
       "    </tr>\n",
       "    <tr>\n",
       "      <th>13</th>\n",
       "      <td>14</td>\n",
       "      <td>Female</td>\n",
       "      <td>False</td>\n",
       "      <td>3.39</td>\n",
       "      <td>Business</td>\n",
       "      <td>Black</td>\n",
       "      <td>690.0</td>\n",
       "      <td>4.0</td>\n",
       "      <td>Nonprofit/Gov</td>\n",
       "      <td>NaN</td>\n",
       "    </tr>\n",
       "    <tr>\n",
       "      <th>14</th>\n",
       "      <td>15</td>\n",
       "      <td>Female</td>\n",
       "      <td>False</td>\n",
       "      <td>3.03</td>\n",
       "      <td>STEM</td>\n",
       "      <td>White</td>\n",
       "      <td>600.0</td>\n",
       "      <td>5.0</td>\n",
       "      <td>Technology</td>\n",
       "      <td>Admit</td>\n",
       "    </tr>\n",
       "    <tr>\n",
       "      <th>15</th>\n",
       "      <td>16</td>\n",
       "      <td>Female</td>\n",
       "      <td>True</td>\n",
       "      <td>3.05</td>\n",
       "      <td>Humanities</td>\n",
       "      <td>NaN</td>\n",
       "      <td>710.0</td>\n",
       "      <td>4.0</td>\n",
       "      <td>Consulting</td>\n",
       "      <td>Admit</td>\n",
       "    </tr>\n",
       "    <tr>\n",
       "      <th>16</th>\n",
       "      <td>17</td>\n",
       "      <td>Female</td>\n",
       "      <td>False</td>\n",
       "      <td>3.32</td>\n",
       "      <td>Business</td>\n",
       "      <td>Asian</td>\n",
       "      <td>710.0</td>\n",
       "      <td>5.0</td>\n",
       "      <td>PE/VC</td>\n",
       "      <td>Admit</td>\n",
       "    </tr>\n",
       "    <tr>\n",
       "      <th>17</th>\n",
       "      <td>18</td>\n",
       "      <td>Male</td>\n",
       "      <td>False</td>\n",
       "      <td>3.23</td>\n",
       "      <td>Humanities</td>\n",
       "      <td>Black</td>\n",
       "      <td>700.0</td>\n",
       "      <td>4.0</td>\n",
       "      <td>Health Care</td>\n",
       "      <td>NaN</td>\n",
       "    </tr>\n",
       "    <tr>\n",
       "      <th>18</th>\n",
       "      <td>19</td>\n",
       "      <td>Male</td>\n",
       "      <td>False</td>\n",
       "      <td>3.13</td>\n",
       "      <td>Humanities</td>\n",
       "      <td>White</td>\n",
       "      <td>630.0</td>\n",
       "      <td>6.0</td>\n",
       "      <td>Financial Services</td>\n",
       "      <td>NaN</td>\n",
       "    </tr>\n",
       "    <tr>\n",
       "      <th>19</th>\n",
       "      <td>20</td>\n",
       "      <td>Male</td>\n",
       "      <td>True</td>\n",
       "      <td>3.09</td>\n",
       "      <td>Business</td>\n",
       "      <td>NaN</td>\n",
       "      <td>670.0</td>\n",
       "      <td>8.0</td>\n",
       "      <td>Consulting</td>\n",
       "      <td>NaN</td>\n",
       "    </tr>\n",
       "  </tbody>\n",
       "</table>\n",
       "</div>"
      ]
     },
     "execution_count": 32,
     "metadata": {},
     "output_type": "execute_result"
    }
   ],
   "execution_count": 32
  },
  {
   "metadata": {
    "ExecuteTime": {
     "end_time": "2024-11-07T14:22:23.777581Z",
     "start_time": "2024-11-07T14:22:23.766778Z"
    }
   },
   "cell_type": "code",
   "source": "df.info",
   "id": "56104ee5499c74a4",
   "outputs": [
    {
     "data": {
      "text/plain": [
       "<bound method DataFrame.info of       application_id  gender  international   gpa       major      race  \\\n",
       "0                  1  Female          False  3.30    Business     Asian   \n",
       "1                  2    Male          False  3.28  Humanities     Black   \n",
       "2                  3  Female           True  3.30    Business       NaN   \n",
       "3                  4    Male          False  3.47        STEM     Black   \n",
       "4                  5    Male          False  3.35        STEM  Hispanic   \n",
       "...              ...     ...            ...   ...         ...       ...   \n",
       "6189            6190    Male          False  3.49    Business     White   \n",
       "6190            6191    Male          False  3.18        STEM     Black   \n",
       "6191            6192  Female           True  3.22    Business       NaN   \n",
       "6192            6193    Male           True  3.36    Business       NaN   \n",
       "6193            6194    Male          False  3.23        STEM  Hispanic   \n",
       "\n",
       "       gmat  work_exp          work_industry admission  \n",
       "0     620.0       3.0     Financial Services     Admit  \n",
       "1     680.0       5.0  Investment Management       NaN  \n",
       "2     710.0       5.0             Technology     Admit  \n",
       "3     690.0       6.0             Technology       NaN  \n",
       "4     590.0       5.0             Consulting       NaN  \n",
       "...     ...       ...                    ...       ...  \n",
       "6189  640.0       5.0                  Other       NaN  \n",
       "6190  670.0       4.0             Consulting       NaN  \n",
       "6191  680.0       5.0            Health Care     Admit  \n",
       "6192  590.0       5.0                  Other       NaN  \n",
       "6193  650.0       4.0             Consulting       NaN  \n",
       "\n",
       "[6194 rows x 10 columns]>"
      ]
     },
     "execution_count": 33,
     "metadata": {},
     "output_type": "execute_result"
    }
   ],
   "execution_count": 33
  },
  {
   "metadata": {
    "ExecuteTime": {
     "end_time": "2024-11-07T14:22:24.575156Z",
     "start_time": "2024-11-07T14:22:24.570993Z"
    }
   },
   "cell_type": "code",
   "source": "df.shape",
   "id": "b6fc71961bec732f",
   "outputs": [
    {
     "data": {
      "text/plain": [
       "(6194, 10)"
      ]
     },
     "execution_count": 34,
     "metadata": {},
     "output_type": "execute_result"
    }
   ],
   "execution_count": 34
  },
  {
   "metadata": {
    "ExecuteTime": {
     "end_time": "2024-11-07T14:22:25.981779Z",
     "start_time": "2024-11-07T14:22:25.969736Z"
    }
   },
   "cell_type": "code",
   "source": "df.describe()",
   "id": "4fd2db0e18bb4747",
   "outputs": [
    {
     "data": {
      "text/plain": [
       "       application_id          gpa         gmat     work_exp\n",
       "count     6194.000000  6194.000000  6194.000000  6194.000000\n",
       "mean      3097.500000     3.250714   651.092993     5.016952\n",
       "std       1788.198115     0.151541    49.294883     1.032432\n",
       "min          1.000000     2.650000   570.000000     1.000000\n",
       "25%       1549.250000     3.150000   610.000000     4.000000\n",
       "50%       3097.500000     3.250000   650.000000     5.000000\n",
       "75%       4645.750000     3.350000   680.000000     6.000000\n",
       "max       6194.000000     3.770000   780.000000     9.000000"
      ],
      "text/html": [
       "<div>\n",
       "<style scoped>\n",
       "    .dataframe tbody tr th:only-of-type {\n",
       "        vertical-align: middle;\n",
       "    }\n",
       "\n",
       "    .dataframe tbody tr th {\n",
       "        vertical-align: top;\n",
       "    }\n",
       "\n",
       "    .dataframe thead th {\n",
       "        text-align: right;\n",
       "    }\n",
       "</style>\n",
       "<table border=\"1\" class=\"dataframe\">\n",
       "  <thead>\n",
       "    <tr style=\"text-align: right;\">\n",
       "      <th></th>\n",
       "      <th>application_id</th>\n",
       "      <th>gpa</th>\n",
       "      <th>gmat</th>\n",
       "      <th>work_exp</th>\n",
       "    </tr>\n",
       "  </thead>\n",
       "  <tbody>\n",
       "    <tr>\n",
       "      <th>count</th>\n",
       "      <td>6194.000000</td>\n",
       "      <td>6194.000000</td>\n",
       "      <td>6194.000000</td>\n",
       "      <td>6194.000000</td>\n",
       "    </tr>\n",
       "    <tr>\n",
       "      <th>mean</th>\n",
       "      <td>3097.500000</td>\n",
       "      <td>3.250714</td>\n",
       "      <td>651.092993</td>\n",
       "      <td>5.016952</td>\n",
       "    </tr>\n",
       "    <tr>\n",
       "      <th>std</th>\n",
       "      <td>1788.198115</td>\n",
       "      <td>0.151541</td>\n",
       "      <td>49.294883</td>\n",
       "      <td>1.032432</td>\n",
       "    </tr>\n",
       "    <tr>\n",
       "      <th>min</th>\n",
       "      <td>1.000000</td>\n",
       "      <td>2.650000</td>\n",
       "      <td>570.000000</td>\n",
       "      <td>1.000000</td>\n",
       "    </tr>\n",
       "    <tr>\n",
       "      <th>25%</th>\n",
       "      <td>1549.250000</td>\n",
       "      <td>3.150000</td>\n",
       "      <td>610.000000</td>\n",
       "      <td>4.000000</td>\n",
       "    </tr>\n",
       "    <tr>\n",
       "      <th>50%</th>\n",
       "      <td>3097.500000</td>\n",
       "      <td>3.250000</td>\n",
       "      <td>650.000000</td>\n",
       "      <td>5.000000</td>\n",
       "    </tr>\n",
       "    <tr>\n",
       "      <th>75%</th>\n",
       "      <td>4645.750000</td>\n",
       "      <td>3.350000</td>\n",
       "      <td>680.000000</td>\n",
       "      <td>6.000000</td>\n",
       "    </tr>\n",
       "    <tr>\n",
       "      <th>max</th>\n",
       "      <td>6194.000000</td>\n",
       "      <td>3.770000</td>\n",
       "      <td>780.000000</td>\n",
       "      <td>9.000000</td>\n",
       "    </tr>\n",
       "  </tbody>\n",
       "</table>\n",
       "</div>"
      ]
     },
     "execution_count": 35,
     "metadata": {},
     "output_type": "execute_result"
    }
   ],
   "execution_count": 35
  },
  {
   "metadata": {},
   "cell_type": "markdown",
   "source": "# Data Cleaning and Exploration",
   "id": "5b35f9d57b3450af"
  },
  {
   "metadata": {
    "ExecuteTime": {
     "end_time": "2024-11-07T14:22:28.101880Z",
     "start_time": "2024-11-07T14:22:28.096627Z"
    }
   },
   "cell_type": "code",
   "source": [
    "# We can drop column \"application_id\", as being a unique identifier, it won't be providing us useful information!\n",
    "df = df.drop('application_id', axis=1)"
   ],
   "id": "11f4b46a9e48ea57",
   "outputs": [],
   "execution_count": 36
  },
  {
   "metadata": {
    "ExecuteTime": {
     "end_time": "2024-11-07T14:22:28.916229Z",
     "start_time": "2024-11-07T14:22:28.911551Z"
    }
   },
   "cell_type": "code",
   "source": "df.shape",
   "id": "6e5a2302895efff1",
   "outputs": [
    {
     "data": {
      "text/plain": [
       "(6194, 9)"
      ]
     },
     "execution_count": 37,
     "metadata": {},
     "output_type": "execute_result"
    }
   ],
   "execution_count": 37
  },
  {
   "metadata": {
    "ExecuteTime": {
     "end_time": "2024-11-07T14:22:30.412540Z",
     "start_time": "2024-11-07T14:22:30.404779Z"
    }
   },
   "cell_type": "code",
   "source": [
    "#checking for missing Values\n",
    "df.isna().sum()"
   ],
   "id": "1568ef406f695c0f",
   "outputs": [
    {
     "data": {
      "text/plain": [
       "gender              0\n",
       "international       0\n",
       "gpa                 0\n",
       "major               0\n",
       "race             1842\n",
       "gmat                0\n",
       "work_exp            0\n",
       "work_industry       0\n",
       "admission        5194\n",
       "dtype: int64"
      ]
     },
     "execution_count": 38,
     "metadata": {},
     "output_type": "execute_result"
    }
   ],
   "execution_count": 38
  },
  {
   "metadata": {
    "ExecuteTime": {
     "end_time": "2024-11-07T14:22:32.825022Z",
     "start_time": "2024-11-07T14:22:32.720487Z"
    }
   },
   "cell_type": "code",
   "source": [
    "#plottin Heatmap for missing values\n",
    "plt.figure(figsize=(10, 6))\n",
    "sns.heatmap(df.isna(), cbar=False, cmap='viridis', yticklabels=False)\n",
    "plt.title(\"Missing Values Heatmap\")\n",
    "plt.show()"
   ],
   "id": "5abd30e844cb4529",
   "outputs": [
    {
     "data": {
      "text/plain": [
       "<Figure size 1000x600 with 1 Axes>"
      ],
      "image/png": "[encoded data removed]"
     },
     "metadata": {},
     "output_type": "display_data"
    }
   ],
   "execution_count": 39
  },
  {
   "metadata": {},
   "cell_type": "markdown",
   "source": "It is evident that there are numerous missing values in columns like \"Race\" (1,842 missing values) and \"Admission\" (5,194 missing values). The missing values in the \"Admission\" column likely represent students who were not admitted, which makes sense in this context. However, for the \"Race\" column, it’s possible that the missing entries are from international students who may have left this question unanswered. Let's examine this in more detail.",
   "id": "4b393de62f7c13ee"
  },
  {
   "metadata": {},
   "cell_type": "code",
   "outputs": [
    {
     "name": "stdout",
     "output_type": "stream",
     "text": [
      "Total missing `race` values: 1842\n",
      "Missing `race` values where `international` is TRUE: 1842\n",
      "Missing `race` values where `international` is FALSE: 0\n",
      "Proportion of missing `race` for international students (TRUE): 1.0\n",
      "Proportion of missing `race` for domestic students (FALSE): 0.0\n"
     ]
    }
   ],
   "execution_count": 13,
   "source": [
    "total_missing_race = df['race'].isna().sum()\n",
    "\n",
    "# 2. Count missing `race` values where `international` is TRUE\n",
    "missing_race_international_true = df[df['race'].isna() & (df['international'] == True)].shape[0]\n",
    "\n",
    "# 3. Count missing `race` values where `international` is FALSE\n",
    "missing_race_international_false = df[df['race'].isna() & (df['international'] == False)].shape[0]\n",
    "\n",
    "# 4. Calculate proportions\n",
    "proportion_international_true = missing_race_international_true / total_missing_race\n",
    "proportion_international_false = missing_race_international_false / total_missing_race\n",
    "\n",
    "print(\"Total missing `race` values:\", total_missing_race)\n",
    "print(\"Missing `race` values where `international` is TRUE:\", missing_race_international_true)\n",
    "print(\"Missing `race` values where `international` is FALSE:\", missing_race_international_false)\n",
    "print(\"Proportion of missing `race` for international students (TRUE):\", proportion_international_true)\n",
    "print(\"Proportion of missing `race` for domestic students (FALSE):\", proportion_international_false)"
   ],
   "id": "6e2c2d6b18404006"
  },
  {
   "metadata": {},
   "cell_type": "markdown",
   "source": [
    "###  Missing Values analysis\n",
    "\n",
    "As we suspected earlier, it is now clear that only international students left this question unanswered. \n",
    "\n",
    "Since these missing values are of the *\"MAR\"* (Missing at Random) type and cannot be ignored, we can impute them with terms like **\"Other\"** or **\"Unknown\"**, but we cannot simply drop them.\n",
    "\n",
    "\n",
    "\n",
    "For the missing values in the *\"Admission\"* column, we can impute them with the term **\"Not Admitted,\"** which serves as the logical counterpart to **\"Admitted.\"**\n"
   ],
   "id": "96f199666b6cf0bc"
  },
  {
   "metadata": {},
   "cell_type": "markdown",
   "source": "# Feature Engineering",
   "id": "20f4033dcd6b4128"
  },
  {
   "metadata": {
    "ExecuteTime": {
     "end_time": "2024-11-07T14:57:57.389450Z",
     "start_time": "2024-11-07T14:57:57.382895Z"
    }
   },
   "cell_type": "code",
   "source": [
    "# imputing 'others' into column 'race'\n",
    "df[\"race\"] = df[\"race\"].fillna('others')\n",
    "print(df[\"race\"].unique())\n",
    "print(df[\"race\"].isna().sum())"
   ],
   "id": "1a4c6eb6ee790e99",
   "outputs": [
    {
     "name": "stdout",
     "output_type": "stream",
     "text": [
      "['Asian' 'Black' 'others' 'Hispanic' 'White' 'Other']\n",
      "0\n"
     ]
    }
   ],
   "execution_count": 45
  },
  {
   "metadata": {
    "ExecuteTime": {
     "end_time": "2024-11-07T15:00:28.443363Z",
     "start_time": "2024-11-07T15:00:28.436382Z"
    }
   },
   "cell_type": "code",
   "source": [
    "# imputing 'not admitted' into col \"admission\"\n",
    "df['admission'] = df['admission'].fillna('not admitted')\n",
    "print(df['admission'].unique())\n",
    "print(df['admission'].isna().sum())"
   ],
   "id": "62b2404f9b5c9aa8",
   "outputs": [
    {
     "name": "stdout",
     "output_type": "stream",
     "text": [
      "['Admit' 'not admitted' 'Waitlist']\n",
      "0\n"
     ]
    }
   ],
   "execution_count": 46
  },
  {
   "metadata": {},
   "cell_type": "code",
   "outputs": [],
   "execution_count": null,
   "source": "",
   "id": "e7079c343fab3845"
  }
 ],
 "metadata": {
  "kernelspec": {
   "display_name": "Python 3",
   "language": "python",
   "name": "python3"
  },
  "language_info": {
   "codemirror_mode": {
    "name": "ipython",
    "version": 2
   },
   "file_extension": ".py",
   "mimetype": "text/x-python",
   "name": "python",
   "nbconvert_exporter": "python",
   "pygments_lexer": "ipython2",
   "version": "2.7.6"
  }
 },
 "nbformat": 4,
 "nbformat_minor": 5
}
